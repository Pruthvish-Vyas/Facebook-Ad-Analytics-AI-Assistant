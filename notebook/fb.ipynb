{
 "cells": [
  {
   "cell_type": "code",
   "execution_count": 1,
   "id": "e50f3d90",
   "metadata": {},
   "outputs": [],
   "source": [
    "import pandas as pd"
   ]
  },
  {
   "cell_type": "code",
   "execution_count": 8,
   "id": "37572176",
   "metadata": {},
   "outputs": [],
   "source": [
    "df = pd.read_csv(r'data\\fb.csv')"
   ]
  },
  {
   "cell_type": "code",
   "execution_count": 9,
   "id": "7432a764",
   "metadata": {},
   "outputs": [
    {
     "name": "stdout",
     "output_type": "stream",
     "text": [
      "<class 'pandas.core.frame.DataFrame'>\n",
      "RangeIndex: 100 entries, 0 to 99\n",
      "Data columns (total 15 columns):\n",
      " #   Column               Non-Null Count  Dtype  \n",
      "---  ------               --------------  -----  \n",
      " 0   ad_id                100 non-null    int64  \n",
      " 1   reporting_start      100 non-null    object \n",
      " 2   reporting_end        100 non-null    object \n",
      " 3   campaign_id          100 non-null    int64  \n",
      " 4   fb_campaign_id       100 non-null    int64  \n",
      " 5   age                  100 non-null    object \n",
      " 6   gender               100 non-null    object \n",
      " 7   interest1            100 non-null    int64  \n",
      " 8   interest2            100 non-null    int64  \n",
      " 9   interest3            100 non-null    int64  \n",
      " 10  impressions          100 non-null    float64\n",
      " 11  clicks               100 non-null    int64  \n",
      " 12  spent                100 non-null    float64\n",
      " 13  total_conversion     100 non-null    float64\n",
      " 14  approved_conversion  100 non-null    float64\n",
      "dtypes: float64(4), int64(7), object(4)\n",
      "memory usage: 11.8+ KB\n"
     ]
    }
   ],
   "source": [
    "df.info()"
   ]
  }
 ],
 "metadata": {
  "kernelspec": {
   "display_name": ".venv",
   "language": "python",
   "name": "python3"
  },
  "language_info": {
   "codemirror_mode": {
    "name": "ipython",
    "version": 3
   },
   "file_extension": ".py",
   "mimetype": "text/x-python",
   "name": "python",
   "nbconvert_exporter": "python",
   "pygments_lexer": "ipython3",
   "version": "3.10.11"
  }
 },
 "nbformat": 4,
 "nbformat_minor": 5
}
